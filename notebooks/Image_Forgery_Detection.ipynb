{
 "cells": [
  {
   "cell_type": "code",
   "execution_count": 1,
   "metadata": {},
   "outputs": [
    {
     "name": "stderr",
     "output_type": "stream",
     "text": [
      "2024-06-17 12:15:11.601886: I tensorflow/core/util/port.cc:113] oneDNN custom operations are on. You may see slightly different numerical results due to floating-point round-off errors from different computation orders. To turn them off, set the environment variable `TF_ENABLE_ONEDNN_OPTS=0`.\n",
      "2024-06-17 12:15:11.604268: I external/local_tsl/tsl/cuda/cudart_stub.cc:32] Could not find cuda drivers on your machine, GPU will not be used.\n",
      "2024-06-17 12:15:11.753264: I external/local_tsl/tsl/cuda/cudart_stub.cc:32] Could not find cuda drivers on your machine, GPU will not be used.\n",
      "2024-06-17 12:15:12.339920: I tensorflow/core/platform/cpu_feature_guard.cc:210] This TensorFlow binary is optimized to use available CPU instructions in performance-critical operations.\n",
      "To enable the following instructions: AVX2 AVX512F AVX512_VNNI FMA, in other operations, rebuild TensorFlow with the appropriate compiler flags.\n",
      "2024-06-17 12:15:13.765196: W tensorflow/compiler/tf2tensorrt/utils/py_utils.cc:38] TF-TRT Warning: Could not find TensorRT\n"
     ]
    },
    {
     "name": "stdout",
     "output_type": "stream",
     "text": [
      "Epoch 1/10\n"
     ]
    }
   ],
   "source": [
    "# Importar funções dos arquivos src\n",
    "import sys\n",
    "sys.path.append('../src')\n",
    "\n",
    "from data_preprocessing import load_and_preprocess_data\n",
    "from model_training import build_model, train_model\n",
    "from make_predictions import make_predictions, plot_predictions, plot_history\n",
    "\n",
    "# Carregar e preprocessar dados\n",
    "train_ds, val_ds = load_and_preprocess_data(dataset_name='cifar10')\n",
    "\n",
    "# Construir e treinar o modelo\n",
    "model = build_model()\n",
    "history = train_model(model, train_ds, val_ds, epochs=10)\n",
    "\n",
    "# Avaliar o modelo\n",
    "loss, accuracy = model.evaluate(val_ds)\n",
    "print(f'Validation accuracy: {accuracy}')\n",
    "\n",
    "# Fazer previsões\n",
    "predictions, labels = make_predictions(model, val_ds)\n",
    "\n",
    "# Plotar algumas previsões\n",
    "for images, lbls in val_ds.take(1):\n",
    "    plot_predictions(images, lbls, predictions)\n",
    "\n",
    "# Plotar histórico de treinamento\n",
    "plot_history(history)\n"
   ]
  }
 ],
 "metadata": {
  "kernelspec": {
   "display_name": "energy",
   "language": "python",
   "name": "python3"
  },
  "language_info": {
   "codemirror_mode": {
    "name": "ipython",
    "version": 3
   },
   "file_extension": ".py",
   "mimetype": "text/x-python",
   "name": "python",
   "nbconvert_exporter": "python",
   "pygments_lexer": "ipython3",
   "version": "3.10.12"
  }
 },
 "nbformat": 4,
 "nbformat_minor": 2
}
